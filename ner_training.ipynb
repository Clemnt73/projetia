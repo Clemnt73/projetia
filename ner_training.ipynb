{
 "cells": [
  {
   "cell_type": "markdown",
   "id": "d7f47948b7e46b62",
   "metadata": {},
   "source": [
    "# Entraînement du modèle d'IA\n",
    "Ce notebook est entièrement dédié à l'entraînement du modèle de reconnaissance d'entités. Il se base sur le modèle *camembert-base*, qui est une version finetunée pour la langue française du modèle de fondation *RoBERTa*, créé par Facebook. Notre objectif est de spécialiser le modèle *camembert-base* sur la tâche de reconnaissance d'entités par finetuning.\n",
    "\n",
    "Pour ce faire, nous allons utiliser le jeu de données <a href=\"https://metatext.io/datasets/wikiner\">*wikiner_fr*</a>, qui est un dataset créé à partir d'articles Wikipédia qui ont été labellisé à la main à des fins d'apprentissage supervisés. Voyons dans un premier temps à quoi ressemble ce jeu de données.  "
   ]
  },
  {
   "cell_type": "markdown",
   "id": "7df0b522a5c5ebc4",
   "metadata": {},
   "source": [
    "### Importation du jeu de données\n",
    "##### Téléchargement depuis HuggingFace"
   ]
  },
  {
   "cell_type": "code",
   "execution_count": 1,
   "id": "e9023161775b946",
   "metadata": {
    "ExecuteTime": {
     "end_time": "2024-05-05T18:22:19.267568Z",
     "start_time": "2024-05-05T18:22:18.679242Z"
    }
   },
   "outputs": [
    {
     "data": {
      "application/vnd.jupyter.widget-view+json": {
       "model_id": "e67441edc79e41b9ac22b93354c2844d",
       "version_major": 2,
       "version_minor": 0
      },
      "text/plain": [
       "Fetching 2 files:   0%|          | 0/2 [00:00<?, ?it/s]"
      ]
     },
     "metadata": {},
     "output_type": "display_data"
    },
    {
     "data": {
      "text/plain": [
       "'/Users/clement/Documents/IA_SCHOOL/projetia'"
      ]
     },
     "execution_count": 1,
     "metadata": {},
     "output_type": "execute_result"
    }
   ],
   "source": [
    "from huggingface_hub import snapshot_download\n",
    "\n",
    "\n",
    "snapshot_download(\n",
    "    repo_id=\"Jean-Baptiste/wikiner_fr\",\n",
    "    repo_type='dataset',\n",
    "    local_dir='.',\n",
    "    allow_patterns='data/*'\n",
    ")"
   ]
  },
  {
   "cell_type": "markdown",
   "id": "9c750c01a4f937b2",
   "metadata": {},
   "source": [
    "##### Importation des données dans un DataFrame"
   ]
  },
  {
   "cell_type": "code",
   "execution_count": 2,
   "id": "1ff31108a267dee4",
   "metadata": {
    "ExecuteTime": {
     "end_time": "2024-05-05T18:22:20.125810Z",
     "start_time": "2024-05-05T18:22:19.269192Z"
    }
   },
   "outputs": [
    {
     "data": {
      "text/html": [
       "<div>\n",
       "<style scoped>\n",
       "    .dataframe tbody tr th:only-of-type {\n",
       "        vertical-align: middle;\n",
       "    }\n",
       "\n",
       "    .dataframe tbody tr th {\n",
       "        vertical-align: top;\n",
       "    }\n",
       "\n",
       "    .dataframe thead th {\n",
       "        text-align: right;\n",
       "    }\n",
       "</style>\n",
       "<table border=\"1\" class=\"dataframe\">\n",
       "  <thead>\n",
       "    <tr style=\"text-align: right;\">\n",
       "      <th></th>\n",
       "      <th>id</th>\n",
       "      <th>tokens</th>\n",
       "      <th>ner_tags</th>\n",
       "    </tr>\n",
       "  </thead>\n",
       "  <tbody>\n",
       "    <tr>\n",
       "      <th>0</th>\n",
       "      <td>28871</td>\n",
       "      <td>[The, Shining, ou, Shining, ,, l', enfant, lum...</td>\n",
       "      <td>[0, 3, 0, 3, 0, 0, 0, 0, 0, 0, 0, 0, 2, 2, 0, ...</td>\n",
       "    </tr>\n",
       "    <tr>\n",
       "      <th>1</th>\n",
       "      <td>110859</td>\n",
       "      <td>[Son, poste, offre, à, Bach, un, certain, conf...</td>\n",
       "      <td>[0, 0, 0, 0, 2, 0, 0, 0, 0, 0, 0, 0, 0, 0, 0, ...</td>\n",
       "    </tr>\n",
       "    <tr>\n",
       "      <th>2</th>\n",
       "      <td>65202</td>\n",
       "      <td>[Aujourd'hui, ,, la, contestation, est, plus, ...</td>\n",
       "      <td>[0, 0, 0, 0, 0, 0, 0, 0, 0, 0, 0, 0, 4, 0, 0, ...</td>\n",
       "    </tr>\n",
       "    <tr>\n",
       "      <th>3</th>\n",
       "      <td>63881</td>\n",
       "      <td>[L', Organisation, internationale, de, la, fra...</td>\n",
       "      <td>[0, 4, 4, 4, 4, 4, 0, 0, 0, 0, 0, 0, 3, 3, 3, ...</td>\n",
       "    </tr>\n",
       "    <tr>\n",
       "      <th>4</th>\n",
       "      <td>78077</td>\n",
       "      <td>[Cependant, en, 1514, ,, Henri, quitta, l', al...</td>\n",
       "      <td>[0, 0, 0, 0, 2, 0, 0, 0, 0, 0, 0, 0, 0, 0, 0, ...</td>\n",
       "    </tr>\n",
       "  </tbody>\n",
       "</table>\n",
       "</div>"
      ],
      "text/plain": [
       "       id                                             tokens  \\\n",
       "0   28871  [The, Shining, ou, Shining, ,, l', enfant, lum...   \n",
       "1  110859  [Son, poste, offre, à, Bach, un, certain, conf...   \n",
       "2   65202  [Aujourd'hui, ,, la, contestation, est, plus, ...   \n",
       "3   63881  [L', Organisation, internationale, de, la, fra...   \n",
       "4   78077  [Cependant, en, 1514, ,, Henri, quitta, l', al...   \n",
       "\n",
       "                                            ner_tags  \n",
       "0  [0, 3, 0, 3, 0, 0, 0, 0, 0, 0, 0, 0, 2, 2, 0, ...  \n",
       "1  [0, 0, 0, 0, 2, 0, 0, 0, 0, 0, 0, 0, 0, 0, 0, ...  \n",
       "2  [0, 0, 0, 0, 0, 0, 0, 0, 0, 0, 0, 0, 4, 0, 0, ...  \n",
       "3  [0, 4, 4, 4, 4, 4, 0, 0, 0, 0, 0, 0, 3, 3, 3, ...  \n",
       "4  [0, 0, 0, 0, 2, 0, 0, 0, 0, 0, 0, 0, 0, 0, 0, ...  "
      ]
     },
     "execution_count": 2,
     "metadata": {},
     "output_type": "execute_result"
    }
   ],
   "source": [
    "import pandas as pd\n",
    "\n",
    "\n",
    "df = pd.concat([\n",
    "    pd.read_parquet('data/train-00000-of-00001-8a0e6775bf277040.parquet'),\n",
    "    pd.read_parquet('data/test-00000-of-00001-f042d39bd1dddf20.parquet')\n",
    "])\n",
    "\n",
    "df.head()"
   ]
  },
  {
   "cell_type": "markdown",
   "id": "dc181175bce3aec",
   "metadata": {},
   "source": [
    "##### Traitements basiques du DataFrame\n",
    "On retire la colonne `id`, inutile dans le contexte de l'entraînement d'un modèle :"
   ]
  },
  {
   "cell_type": "code",
   "execution_count": 3,
   "id": "b51dcdf3a28b621",
   "metadata": {
    "ExecuteTime": {
     "end_time": "2024-05-05T18:22:20.133896Z",
     "start_time": "2024-05-05T18:22:20.126729Z"
    }
   },
   "outputs": [
    {
     "data": {
      "text/html": [
       "<div>\n",
       "<style scoped>\n",
       "    .dataframe tbody tr th:only-of-type {\n",
       "        vertical-align: middle;\n",
       "    }\n",
       "\n",
       "    .dataframe tbody tr th {\n",
       "        vertical-align: top;\n",
       "    }\n",
       "\n",
       "    .dataframe thead th {\n",
       "        text-align: right;\n",
       "    }\n",
       "</style>\n",
       "<table border=\"1\" class=\"dataframe\">\n",
       "  <thead>\n",
       "    <tr style=\"text-align: right;\">\n",
       "      <th></th>\n",
       "      <th>tokens</th>\n",
       "      <th>ner_tags</th>\n",
       "    </tr>\n",
       "  </thead>\n",
       "  <tbody>\n",
       "    <tr>\n",
       "      <th>0</th>\n",
       "      <td>[The, Shining, ou, Shining, ,, l', enfant, lum...</td>\n",
       "      <td>[0, 3, 0, 3, 0, 0, 0, 0, 0, 0, 0, 0, 2, 2, 0, ...</td>\n",
       "    </tr>\n",
       "    <tr>\n",
       "      <th>1</th>\n",
       "      <td>[Son, poste, offre, à, Bach, un, certain, conf...</td>\n",
       "      <td>[0, 0, 0, 0, 2, 0, 0, 0, 0, 0, 0, 0, 0, 0, 0, ...</td>\n",
       "    </tr>\n",
       "    <tr>\n",
       "      <th>2</th>\n",
       "      <td>[Aujourd'hui, ,, la, contestation, est, plus, ...</td>\n",
       "      <td>[0, 0, 0, 0, 0, 0, 0, 0, 0, 0, 0, 0, 4, 0, 0, ...</td>\n",
       "    </tr>\n",
       "    <tr>\n",
       "      <th>3</th>\n",
       "      <td>[L', Organisation, internationale, de, la, fra...</td>\n",
       "      <td>[0, 4, 4, 4, 4, 4, 0, 0, 0, 0, 0, 0, 3, 3, 3, ...</td>\n",
       "    </tr>\n",
       "    <tr>\n",
       "      <th>4</th>\n",
       "      <td>[Cependant, en, 1514, ,, Henri, quitta, l', al...</td>\n",
       "      <td>[0, 0, 0, 0, 2, 0, 0, 0, 0, 0, 0, 0, 0, 0, 0, ...</td>\n",
       "    </tr>\n",
       "  </tbody>\n",
       "</table>\n",
       "</div>"
      ],
      "text/plain": [
       "                                              tokens  \\\n",
       "0  [The, Shining, ou, Shining, ,, l', enfant, lum...   \n",
       "1  [Son, poste, offre, à, Bach, un, certain, conf...   \n",
       "2  [Aujourd'hui, ,, la, contestation, est, plus, ...   \n",
       "3  [L', Organisation, internationale, de, la, fra...   \n",
       "4  [Cependant, en, 1514, ,, Henri, quitta, l', al...   \n",
       "\n",
       "                                            ner_tags  \n",
       "0  [0, 3, 0, 3, 0, 0, 0, 0, 0, 0, 0, 0, 2, 2, 0, ...  \n",
       "1  [0, 0, 0, 0, 2, 0, 0, 0, 0, 0, 0, 0, 0, 0, 0, ...  \n",
       "2  [0, 0, 0, 0, 0, 0, 0, 0, 0, 0, 0, 0, 4, 0, 0, ...  \n",
       "3  [0, 4, 4, 4, 4, 4, 0, 0, 0, 0, 0, 0, 3, 3, 3, ...  \n",
       "4  [0, 0, 0, 0, 2, 0, 0, 0, 0, 0, 0, 0, 0, 0, 0, ...  "
      ]
     },
     "execution_count": 3,
     "metadata": {},
     "output_type": "execute_result"
    }
   ],
   "source": [
    "df = df.drop(columns='id')\n",
    "df.head()"
   ]
  },
  {
   "cell_type": "markdown",
   "id": "476c71ce32ecbe6b",
   "metadata": {},
   "source": [
    "Ainsi, le dataset présente 2 colonnes :\n",
    "- La première colonne représente le contenu de chaque article *Wikipedia*, prédécoupé sous forme de tokens contenus dans une liste.\n",
    "- La seconde colonne représente, pour chaque token des listes de la première colonne, le type d'entité associé. Chaque type d'entité est encodé comme suit :"
   ]
  },
  {
   "cell_type": "code",
   "execution_count": 4,
   "id": "726e97afc6b9ce12",
   "metadata": {
    "ExecuteTime": {
     "end_time": "2024-05-05T18:22:20.136978Z",
     "start_time": "2024-05-05T18:22:20.135263Z"
    }
   },
   "outputs": [],
   "source": [
    "ID2LABEL = {\n",
    "    0: 'O',         # Ce n'est pas une entité\n",
    "    1: 'LOC',       # Localités\n",
    "    2: 'PER',       # Identités\n",
    "    3: 'MISC',      # Autres entités\n",
    "    4: 'ORG'        # Organisations\n",
    "}\n",
    "LABEL2ID = {value: key for key, value in ID2LABEL.items()}"
   ]
  },
  {
   "cell_type": "markdown",
   "id": "a70d4717c6c512ba",
   "metadata": {},
   "source": [
    "Concernant ces deux colonnes, on doit s'assurer que tous les éléments sont de type `list` pour que le fonctionnement du modèle ne soit pas impacté : "
   ]
  },
  {
   "cell_type": "code",
   "execution_count": 5,
   "id": "b7fe1ff308a27118",
   "metadata": {
    "ExecuteTime": {
     "end_time": "2024-05-05T18:22:20.517910Z",
     "start_time": "2024-05-05T18:22:20.137687Z"
    }
   },
   "outputs": [],
   "source": [
    "df['tokens'] = df['tokens'].apply(list)\n",
    "df['ner_tags'] = df['ner_tags'].apply(list)"
   ]
  },
  {
   "cell_type": "markdown",
   "id": "6057b755af00e2aa",
   "metadata": {},
   "source": [
    "Enfin, pour éviter toute confusion vis-à-vis des prochaines étapes de tokenisation, nous allons renommer la première colonne :"
   ]
  },
  {
   "cell_type": "code",
   "execution_count": 6,
   "id": "c5383348a31f0299",
   "metadata": {
    "ExecuteTime": {
     "end_time": "2024-05-05T18:22:20.530606Z",
     "start_time": "2024-05-05T18:22:20.519072Z"
    }
   },
   "outputs": [
    {
     "data": {
      "text/html": [
       "<div>\n",
       "<style scoped>\n",
       "    .dataframe tbody tr th:only-of-type {\n",
       "        vertical-align: middle;\n",
       "    }\n",
       "\n",
       "    .dataframe tbody tr th {\n",
       "        vertical-align: top;\n",
       "    }\n",
       "\n",
       "    .dataframe thead th {\n",
       "        text-align: right;\n",
       "    }\n",
       "</style>\n",
       "<table border=\"1\" class=\"dataframe\">\n",
       "  <thead>\n",
       "    <tr style=\"text-align: right;\">\n",
       "      <th></th>\n",
       "      <th>str_tokens</th>\n",
       "      <th>ner_tags</th>\n",
       "    </tr>\n",
       "  </thead>\n",
       "  <tbody>\n",
       "    <tr>\n",
       "      <th>0</th>\n",
       "      <td>[The, Shining, ou, Shining, ,, l', enfant, lum...</td>\n",
       "      <td>[0, 3, 0, 3, 0, 0, 0, 0, 0, 0, 0, 0, 2, 2, 0, ...</td>\n",
       "    </tr>\n",
       "    <tr>\n",
       "      <th>1</th>\n",
       "      <td>[Son, poste, offre, à, Bach, un, certain, conf...</td>\n",
       "      <td>[0, 0, 0, 0, 2, 0, 0, 0, 0, 0, 0, 0, 0, 0, 0, ...</td>\n",
       "    </tr>\n",
       "    <tr>\n",
       "      <th>2</th>\n",
       "      <td>[Aujourd'hui, ,, la, contestation, est, plus, ...</td>\n",
       "      <td>[0, 0, 0, 0, 0, 0, 0, 0, 0, 0, 0, 0, 4, 0, 0, ...</td>\n",
       "    </tr>\n",
       "    <tr>\n",
       "      <th>3</th>\n",
       "      <td>[L', Organisation, internationale, de, la, fra...</td>\n",
       "      <td>[0, 4, 4, 4, 4, 4, 0, 0, 0, 0, 0, 0, 3, 3, 3, ...</td>\n",
       "    </tr>\n",
       "    <tr>\n",
       "      <th>4</th>\n",
       "      <td>[Cependant, en, 1514, ,, Henri, quitta, l', al...</td>\n",
       "      <td>[0, 0, 0, 0, 2, 0, 0, 0, 0, 0, 0, 0, 0, 0, 0, ...</td>\n",
       "    </tr>\n",
       "  </tbody>\n",
       "</table>\n",
       "</div>"
      ],
      "text/plain": [
       "                                          str_tokens  \\\n",
       "0  [The, Shining, ou, Shining, ,, l', enfant, lum...   \n",
       "1  [Son, poste, offre, à, Bach, un, certain, conf...   \n",
       "2  [Aujourd'hui, ,, la, contestation, est, plus, ...   \n",
       "3  [L', Organisation, internationale, de, la, fra...   \n",
       "4  [Cependant, en, 1514, ,, Henri, quitta, l', al...   \n",
       "\n",
       "                                            ner_tags  \n",
       "0  [0, 3, 0, 3, 0, 0, 0, 0, 0, 0, 0, 0, 2, 2, 0, ...  \n",
       "1  [0, 0, 0, 0, 2, 0, 0, 0, 0, 0, 0, 0, 0, 0, 0, ...  \n",
       "2  [0, 0, 0, 0, 0, 0, 0, 0, 0, 0, 0, 0, 4, 0, 0, ...  \n",
       "3  [0, 4, 4, 4, 4, 4, 0, 0, 0, 0, 0, 0, 3, 3, 3, ...  \n",
       "4  [0, 0, 0, 0, 2, 0, 0, 0, 0, 0, 0, 0, 0, 0, 0, ...  "
      ]
     },
     "execution_count": 6,
     "metadata": {},
     "output_type": "execute_result"
    }
   ],
   "source": [
    "df = df.rename(columns={'tokens': 'str_tokens'})\n",
    "df.head()"
   ]
  },
  {
   "cell_type": "markdown",
   "id": "47fc91144a9f33b7",
   "metadata": {},
   "source": [
    "##### Tokenisation des mots\n",
    "Dans le cadre d'un modèle de NLP, ce jeu de données est exploitable tel qu'il se présente. Le seul traitement à réaliser est la tokenisation de la première colonne, qui sera effectuée à travers l'opération suivante :"
   ]
  },
  {
   "cell_type": "code",
   "execution_count": 7,
   "id": "c1f2f8f3b660a0f7",
   "metadata": {
    "ExecuteTime": {
     "end_time": "2024-05-05T18:22:26.987860Z",
     "start_time": "2024-05-05T18:22:20.531313Z"
    }
   },
   "outputs": [
    {
     "data": {
      "text/html": [
       "<div>\n",
       "<style scoped>\n",
       "    .dataframe tbody tr th:only-of-type {\n",
       "        vertical-align: middle;\n",
       "    }\n",
       "\n",
       "    .dataframe tbody tr th {\n",
       "        vertical-align: top;\n",
       "    }\n",
       "\n",
       "    .dataframe thead th {\n",
       "        text-align: right;\n",
       "    }\n",
       "</style>\n",
       "<table border=\"1\" class=\"dataframe\">\n",
       "  <thead>\n",
       "    <tr style=\"text-align: right;\">\n",
       "      <th></th>\n",
       "      <th>str_tokens</th>\n",
       "      <th>tokenizer_input_ids</th>\n",
       "      <th>tokenizer_attention_mask</th>\n",
       "      <th>ner_tags</th>\n",
       "    </tr>\n",
       "  </thead>\n",
       "  <tbody>\n",
       "    <tr>\n",
       "      <th>0</th>\n",
       "      <td>[The, Shining, ou, Shining, ,, l', enfant, lum...</td>\n",
       "      <td>[5, 908, 14823, 402, 47, 14823, 402, 21, 7, 17...</td>\n",
       "      <td>[1, 1, 1, 1, 1, 1, 1, 1, 1, 1, 1, 1, 1, 1, 1, ...</td>\n",
       "      <td>[0, 3, 0, 3, 0, 0, 0, 0, 0, 0, 0, 0, 2, 2, 0, ...</td>\n",
       "    </tr>\n",
       "    <tr>\n",
       "      <th>1</th>\n",
       "      <td>[Son, poste, offre, à, Bach, un, certain, conf...</td>\n",
       "      <td>[5, 685, 1337, 628, 15, 13977, 23, 1000, 1440,...</td>\n",
       "      <td>[1, 1, 1, 1, 1, 1, 1, 1, 1, 1, 1, 1, 1, 1, 1, ...</td>\n",
       "      <td>[0, 0, 0, 0, 2, 0, 0, 0, 0, 0, 0, 0, 0, 0, 0, ...</td>\n",
       "    </tr>\n",
       "    <tr>\n",
       "      <th>2</th>\n",
       "      <td>[Aujourd'hui, ,, la, contestation, est, plus, ...</td>\n",
       "      <td>[5, 1301, 11, 265, 21, 7, 13, 13241, 30, 40, 2...</td>\n",
       "      <td>[1, 1, 1, 1, 1, 1, 1, 1, 1, 1, 1, 1, 1, 1, 1, ...</td>\n",
       "      <td>[0, 0, 0, 0, 0, 0, 0, 0, 0, 0, 0, 0, 4, 0, 0, ...</td>\n",
       "    </tr>\n",
       "    <tr>\n",
       "      <th>3</th>\n",
       "      <td>[L', Organisation, internationale, de, la, fra...</td>\n",
       "      <td>[5, 71, 11, 13817, 1578, 8, 13, 26638, 14905, ...</td>\n",
       "      <td>[1, 1, 1, 1, 1, 1, 1, 1, 1, 1, 1, 1, 1, 1, 1, ...</td>\n",
       "      <td>[0, 4, 4, 4, 4, 4, 0, 0, 0, 0, 0, 0, 3, 3, 3, ...</td>\n",
       "    </tr>\n",
       "    <tr>\n",
       "      <th>4</th>\n",
       "      <td>[Cependant, en, 1514, ,, Henri, quitta, l', al...</td>\n",
       "      <td>[5, 1420, 22, 338, 2181, 21, 7, 4934, 17540, 1...</td>\n",
       "      <td>[1, 1, 1, 1, 1, 1, 1, 1, 1, 1, 1, 1, 1, 1, 1, ...</td>\n",
       "      <td>[0, 0, 0, 0, 2, 0, 0, 0, 0, 0, 0, 0, 0, 0, 0, ...</td>\n",
       "    </tr>\n",
       "  </tbody>\n",
       "</table>\n",
       "</div>"
      ],
      "text/plain": [
       "                                          str_tokens  \\\n",
       "0  [The, Shining, ou, Shining, ,, l', enfant, lum...   \n",
       "1  [Son, poste, offre, à, Bach, un, certain, conf...   \n",
       "2  [Aujourd'hui, ,, la, contestation, est, plus, ...   \n",
       "3  [L', Organisation, internationale, de, la, fra...   \n",
       "4  [Cependant, en, 1514, ,, Henri, quitta, l', al...   \n",
       "\n",
       "                                 tokenizer_input_ids  \\\n",
       "0  [5, 908, 14823, 402, 47, 14823, 402, 21, 7, 17...   \n",
       "1  [5, 685, 1337, 628, 15, 13977, 23, 1000, 1440,...   \n",
       "2  [5, 1301, 11, 265, 21, 7, 13, 13241, 30, 40, 2...   \n",
       "3  [5, 71, 11, 13817, 1578, 8, 13, 26638, 14905, ...   \n",
       "4  [5, 1420, 22, 338, 2181, 21, 7, 4934, 17540, 1...   \n",
       "\n",
       "                            tokenizer_attention_mask  \\\n",
       "0  [1, 1, 1, 1, 1, 1, 1, 1, 1, 1, 1, 1, 1, 1, 1, ...   \n",
       "1  [1, 1, 1, 1, 1, 1, 1, 1, 1, 1, 1, 1, 1, 1, 1, ...   \n",
       "2  [1, 1, 1, 1, 1, 1, 1, 1, 1, 1, 1, 1, 1, 1, 1, ...   \n",
       "3  [1, 1, 1, 1, 1, 1, 1, 1, 1, 1, 1, 1, 1, 1, 1, ...   \n",
       "4  [1, 1, 1, 1, 1, 1, 1, 1, 1, 1, 1, 1, 1, 1, 1, ...   \n",
       "\n",
       "                                            ner_tags  \n",
       "0  [0, 3, 0, 3, 0, 0, 0, 0, 0, 0, 0, 0, 2, 2, 0, ...  \n",
       "1  [0, 0, 0, 0, 2, 0, 0, 0, 0, 0, 0, 0, 0, 0, 0, ...  \n",
       "2  [0, 0, 0, 0, 0, 0, 0, 0, 0, 0, 0, 0, 4, 0, 0, ...  \n",
       "3  [0, 4, 4, 4, 4, 4, 0, 0, 0, 0, 0, 0, 3, 3, 3, ...  \n",
       "4  [0, 0, 0, 0, 2, 0, 0, 0, 0, 0, 0, 0, 0, 0, 0, ...  "
      ]
     },
     "execution_count": 7,
     "metadata": {},
     "output_type": "execute_result"
    }
   ],
   "source": [
    "from transformers import AutoTokenizer\n",
    "\n",
    "\n",
    "# Tokenisation\n",
    "tokenizer = AutoTokenizer.from_pretrained('camembert-base')\n",
    "int_tokens = tokenizer(df['str_tokens'].tolist(), is_split_into_words=True, truncation=True, padding=True)\n",
    "\n",
    "# Ajout des résultats au DataFrame\n",
    "df['tokenizer_input_ids'] = int_tokens['input_ids']\n",
    "df['tokenizer_attention_mask'] = int_tokens['attention_mask']\n",
    "df = df[['str_tokens', 'tokenizer_input_ids', 'tokenizer_attention_mask', 'ner_tags']]\n",
    "\n",
    "df.head()"
   ]
  },
  {
   "cell_type": "markdown",
   "id": "eb0ff846479035a0",
   "metadata": {},
   "source": [
    "La tokenisation s'est effectuée correctement, toutefois on peut s'apercevoir que le nombre de tokens est plus élevé que le nombre de tags labellisé, en atteste les quelques résultats suivants qui représentent la longueur des listes pour chaque élément des colonnes `int_tokens` et `ner_tags` :"
   ]
  },
  {
   "cell_type": "code",
   "execution_count": 8,
   "id": "101a1eb47559b8f2",
   "metadata": {
    "ExecuteTime": {
     "end_time": "2024-05-05T18:22:27.047015Z",
     "start_time": "2024-05-05T18:22:26.988844Z"
    }
   },
   "outputs": [
    {
     "data": {
      "text/html": [
       "<div>\n",
       "<style scoped>\n",
       "    .dataframe tbody tr th:only-of-type {\n",
       "        vertical-align: middle;\n",
       "    }\n",
       "\n",
       "    .dataframe tbody tr th {\n",
       "        vertical-align: top;\n",
       "    }\n",
       "\n",
       "    .dataframe thead th {\n",
       "        text-align: right;\n",
       "    }\n",
       "</style>\n",
       "<table border=\"1\" class=\"dataframe\">\n",
       "  <thead>\n",
       "    <tr style=\"text-align: right;\">\n",
       "      <th></th>\n",
       "      <th>tokenizer_input_ids</th>\n",
       "      <th>ner_tags</th>\n",
       "    </tr>\n",
       "  </thead>\n",
       "  <tbody>\n",
       "    <tr>\n",
       "      <th>0</th>\n",
       "      <td>356</td>\n",
       "      <td>22</td>\n",
       "    </tr>\n",
       "    <tr>\n",
       "      <th>1</th>\n",
       "      <td>356</td>\n",
       "      <td>19</td>\n",
       "    </tr>\n",
       "    <tr>\n",
       "      <th>2</th>\n",
       "      <td>356</td>\n",
       "      <td>50</td>\n",
       "    </tr>\n",
       "    <tr>\n",
       "      <th>3</th>\n",
       "      <td>356</td>\n",
       "      <td>41</td>\n",
       "    </tr>\n",
       "    <tr>\n",
       "      <th>4</th>\n",
       "      <td>356</td>\n",
       "      <td>18</td>\n",
       "    </tr>\n",
       "  </tbody>\n",
       "</table>\n",
       "</div>"
      ],
      "text/plain": [
       "   tokenizer_input_ids  ner_tags\n",
       "0                  356        22\n",
       "1                  356        19\n",
       "2                  356        50\n",
       "3                  356        41\n",
       "4                  356        18"
      ]
     },
     "execution_count": 8,
     "metadata": {},
     "output_type": "execute_result"
    }
   ],
   "source": [
    "pd.concat(\n",
    "    objs=[\n",
    "        df['tokenizer_input_ids'].apply(lambda x: len(x)),\n",
    "        df['ner_tags'].apply(lambda x: len(x))\n",
    "    ],\n",
    "    axis=1\n",
    ").head()"
   ]
  },
  {
   "cell_type": "markdown",
   "id": "f27495a643208533",
   "metadata": {},
   "source": [
    "Cela est dû au fait que certains mots sont parfois découpées en plusieurs parties lors de la tokenisation, il est donc nécessaire de procéder à un réalignement pour que listes des colonnes `tokens` et `ner_tags` soient de taille identique. Le réalignement s'effectue à l'échelle des tags, comme suit :"
   ]
  },
  {
   "cell_type": "code",
   "execution_count": 9,
   "id": "8aff2cf3f516350a",
   "metadata": {
    "ExecuteTime": {
     "end_time": "2024-05-05T18:22:31.458877Z",
     "start_time": "2024-05-05T18:22:27.047718Z"
    }
   },
   "outputs": [],
   "source": [
    "ner_tags = []\n",
    "\n",
    "for i, tag in enumerate(df['ner_tags']):\n",
    "    word_ids = int_tokens.word_ids(batch_index=i) \n",
    "    previous_word_idx = None\n",
    "    label_ids = []\n",
    "    \n",
    "    for word_idx in word_ids:\n",
    "        # Pour les tokens valant None, on attribue la valeur -100, qui sera négligeable\n",
    "        # lors de l'utilisation de la fonction de perte\n",
    "        if word_idx is None:\n",
    "            label_ids.append(-100) \n",
    "            \n",
    "        # Pour tous les autres tokens, on attribue la valeur du tag d'entité associé\n",
    "        # au mot correspondant\n",
    "        else:\n",
    "            label_ids.append(tag[word_idx])\n",
    "        \n",
    "        previous_word_idx = word_idx\n",
    "\n",
    "    ner_tags.append(label_ids)"
   ]
  },
  {
   "cell_type": "markdown",
   "id": "10a2325db8f3439a",
   "metadata": {},
   "source": [
    "On remplace alors les valeurs de la colonne `ner_tags` par les nouvelles valeurs réalignées : "
   ]
  },
  {
   "cell_type": "code",
   "execution_count": 10,
   "id": "12362b078c334073",
   "metadata": {
    "ExecuteTime": {
     "end_time": "2024-05-05T18:22:31.478945Z",
     "start_time": "2024-05-05T18:22:31.461346Z"
    }
   },
   "outputs": [
    {
     "data": {
      "text/html": [
       "<div>\n",
       "<style scoped>\n",
       "    .dataframe tbody tr th:only-of-type {\n",
       "        vertical-align: middle;\n",
       "    }\n",
       "\n",
       "    .dataframe tbody tr th {\n",
       "        vertical-align: top;\n",
       "    }\n",
       "\n",
       "    .dataframe thead th {\n",
       "        text-align: right;\n",
       "    }\n",
       "</style>\n",
       "<table border=\"1\" class=\"dataframe\">\n",
       "  <thead>\n",
       "    <tr style=\"text-align: right;\">\n",
       "      <th></th>\n",
       "      <th>str_tokens</th>\n",
       "      <th>tokenizer_input_ids</th>\n",
       "      <th>tokenizer_attention_mask</th>\n",
       "      <th>ner_tags</th>\n",
       "    </tr>\n",
       "  </thead>\n",
       "  <tbody>\n",
       "    <tr>\n",
       "      <th>0</th>\n",
       "      <td>[The, Shining, ou, Shining, ,, l', enfant, lum...</td>\n",
       "      <td>[5, 908, 14823, 402, 47, 14823, 402, 21, 7, 17...</td>\n",
       "      <td>[1, 1, 1, 1, 1, 1, 1, 1, 1, 1, 1, 1, 1, 1, 1, ...</td>\n",
       "      <td>[-100, 0, 3, 3, 0, 3, 3, 0, 0, 0, 0, 0, 0, 0, ...</td>\n",
       "    </tr>\n",
       "    <tr>\n",
       "      <th>1</th>\n",
       "      <td>[Son, poste, offre, à, Bach, un, certain, conf...</td>\n",
       "      <td>[5, 685, 1337, 628, 15, 13977, 23, 1000, 1440,...</td>\n",
       "      <td>[1, 1, 1, 1, 1, 1, 1, 1, 1, 1, 1, 1, 1, 1, 1, ...</td>\n",
       "      <td>[-100, 0, 0, 0, 0, 2, 0, 0, 0, 0, 0, 0, 0, 0, ...</td>\n",
       "    </tr>\n",
       "    <tr>\n",
       "      <th>2</th>\n",
       "      <td>[Aujourd'hui, ,, la, contestation, est, plus, ...</td>\n",
       "      <td>[5, 1301, 11, 265, 21, 7, 13, 13241, 30, 40, 2...</td>\n",
       "      <td>[1, 1, 1, 1, 1, 1, 1, 1, 1, 1, 1, 1, 1, 1, 1, ...</td>\n",
       "      <td>[-100, 0, 0, 0, 0, 0, 0, 0, 0, 0, 0, 0, 0, 0, ...</td>\n",
       "    </tr>\n",
       "    <tr>\n",
       "      <th>3</th>\n",
       "      <td>[L', Organisation, internationale, de, la, fra...</td>\n",
       "      <td>[5, 71, 11, 13817, 1578, 8, 13, 26638, 14905, ...</td>\n",
       "      <td>[1, 1, 1, 1, 1, 1, 1, 1, 1, 1, 1, 1, 1, 1, 1, ...</td>\n",
       "      <td>[-100, 0, 0, 4, 4, 4, 4, 4, 0, 0, 0, 0, 0, 0, ...</td>\n",
       "    </tr>\n",
       "    <tr>\n",
       "      <th>4</th>\n",
       "      <td>[Cependant, en, 1514, ,, Henri, quitta, l', al...</td>\n",
       "      <td>[5, 1420, 22, 338, 2181, 21, 7, 4934, 17540, 1...</td>\n",
       "      <td>[1, 1, 1, 1, 1, 1, 1, 1, 1, 1, 1, 1, 1, 1, 1, ...</td>\n",
       "      <td>[-100, 0, 0, 0, 0, 0, 0, 2, 0, 0, 0, 0, 0, 0, ...</td>\n",
       "    </tr>\n",
       "  </tbody>\n",
       "</table>\n",
       "</div>"
      ],
      "text/plain": [
       "                                          str_tokens  \\\n",
       "0  [The, Shining, ou, Shining, ,, l', enfant, lum...   \n",
       "1  [Son, poste, offre, à, Bach, un, certain, conf...   \n",
       "2  [Aujourd'hui, ,, la, contestation, est, plus, ...   \n",
       "3  [L', Organisation, internationale, de, la, fra...   \n",
       "4  [Cependant, en, 1514, ,, Henri, quitta, l', al...   \n",
       "\n",
       "                                 tokenizer_input_ids  \\\n",
       "0  [5, 908, 14823, 402, 47, 14823, 402, 21, 7, 17...   \n",
       "1  [5, 685, 1337, 628, 15, 13977, 23, 1000, 1440,...   \n",
       "2  [5, 1301, 11, 265, 21, 7, 13, 13241, 30, 40, 2...   \n",
       "3  [5, 71, 11, 13817, 1578, 8, 13, 26638, 14905, ...   \n",
       "4  [5, 1420, 22, 338, 2181, 21, 7, 4934, 17540, 1...   \n",
       "\n",
       "                            tokenizer_attention_mask  \\\n",
       "0  [1, 1, 1, 1, 1, 1, 1, 1, 1, 1, 1, 1, 1, 1, 1, ...   \n",
       "1  [1, 1, 1, 1, 1, 1, 1, 1, 1, 1, 1, 1, 1, 1, 1, ...   \n",
       "2  [1, 1, 1, 1, 1, 1, 1, 1, 1, 1, 1, 1, 1, 1, 1, ...   \n",
       "3  [1, 1, 1, 1, 1, 1, 1, 1, 1, 1, 1, 1, 1, 1, 1, ...   \n",
       "4  [1, 1, 1, 1, 1, 1, 1, 1, 1, 1, 1, 1, 1, 1, 1, ...   \n",
       "\n",
       "                                            ner_tags  \n",
       "0  [-100, 0, 3, 3, 0, 3, 3, 0, 0, 0, 0, 0, 0, 0, ...  \n",
       "1  [-100, 0, 0, 0, 0, 2, 0, 0, 0, 0, 0, 0, 0, 0, ...  \n",
       "2  [-100, 0, 0, 0, 0, 0, 0, 0, 0, 0, 0, 0, 0, 0, ...  \n",
       "3  [-100, 0, 0, 4, 4, 4, 4, 4, 0, 0, 0, 0, 0, 0, ...  \n",
       "4  [-100, 0, 0, 0, 0, 0, 0, 2, 0, 0, 0, 0, 0, 0, ...  "
      ]
     },
     "execution_count": 10,
     "metadata": {},
     "output_type": "execute_result"
    }
   ],
   "source": [
    "df['ner_tags'] = ner_tags\n",
    "df.head()"
   ]
  },
  {
   "cell_type": "markdown",
   "id": "84c179259d2af326",
   "metadata": {},
   "source": [
    "On peut vérifier que le traitement a bien été effectué en regardant, pour les colonnes `int_tokens` et `ner_tags`, que les longueurs des listes sont toutes identiques :"
   ]
  },
  {
   "cell_type": "code",
   "execution_count": 11,
   "id": "bce3b07222ecd395",
   "metadata": {
    "ExecuteTime": {
     "end_time": "2024-05-05T18:22:31.545854Z",
     "start_time": "2024-05-05T18:22:31.479764Z"
    }
   },
   "outputs": [
    {
     "data": {
      "text/html": [
       "<div>\n",
       "<style scoped>\n",
       "    .dataframe tbody tr th:only-of-type {\n",
       "        vertical-align: middle;\n",
       "    }\n",
       "\n",
       "    .dataframe tbody tr th {\n",
       "        vertical-align: top;\n",
       "    }\n",
       "\n",
       "    .dataframe thead th {\n",
       "        text-align: right;\n",
       "    }\n",
       "</style>\n",
       "<table border=\"1\" class=\"dataframe\">\n",
       "  <thead>\n",
       "    <tr style=\"text-align: right;\">\n",
       "      <th></th>\n",
       "      <th>tokenizer_input_ids</th>\n",
       "      <th>ner_tags</th>\n",
       "    </tr>\n",
       "  </thead>\n",
       "  <tbody>\n",
       "    <tr>\n",
       "      <th>0</th>\n",
       "      <td>356</td>\n",
       "      <td>356</td>\n",
       "    </tr>\n",
       "    <tr>\n",
       "      <th>1</th>\n",
       "      <td>356</td>\n",
       "      <td>356</td>\n",
       "    </tr>\n",
       "    <tr>\n",
       "      <th>2</th>\n",
       "      <td>356</td>\n",
       "      <td>356</td>\n",
       "    </tr>\n",
       "    <tr>\n",
       "      <th>3</th>\n",
       "      <td>356</td>\n",
       "      <td>356</td>\n",
       "    </tr>\n",
       "    <tr>\n",
       "      <th>4</th>\n",
       "      <td>356</td>\n",
       "      <td>356</td>\n",
       "    </tr>\n",
       "  </tbody>\n",
       "</table>\n",
       "</div>"
      ],
      "text/plain": [
       "   tokenizer_input_ids  ner_tags\n",
       "0                  356       356\n",
       "1                  356       356\n",
       "2                  356       356\n",
       "3                  356       356\n",
       "4                  356       356"
      ]
     },
     "execution_count": 11,
     "metadata": {},
     "output_type": "execute_result"
    }
   ],
   "source": [
    "pd.concat(\n",
    "    objs=[\n",
    "        df['tokenizer_input_ids'].apply(lambda x: len(x)),\n",
    "        df['ner_tags'].apply(lambda x: len(x))\n",
    "    ],\n",
    "    axis=1\n",
    ").head()"
   ]
  },
  {
   "cell_type": "markdown",
   "id": "e03928efba9e9d03",
   "metadata": {},
   "source": [
    "##### Mise en forme des données\n",
    "Lors de l'entraînement, la bibliothèque *transformers* requiert que les données soient mises en forme d'une façon bien particulière. En l'occurence, c'est au travers de la classe suivante que nos données seront transmises au modèle :"
   ]
  },
  {
   "cell_type": "code",
   "execution_count": 12,
   "id": "69b969bec596dfc4",
   "metadata": {
    "ExecuteTime": {
     "end_time": "2024-05-05T18:22:31.549444Z",
     "start_time": "2024-05-05T18:22:31.546867Z"
    }
   },
   "outputs": [],
   "source": [
    "import torch\n",
    "\n",
    "\n",
    "class NERDataset(torch.utils.data.Dataset):\n",
    "    def __init__(self, df):\n",
    "        self.input_ids = df['tokenizer_input_ids']\n",
    "        self.attention_mask = df['tokenizer_attention_mask']\n",
    "        self.labels = df['ner_tags']\n",
    "\n",
    "    def __getitem__(self, idx):\n",
    "        return {\n",
    "            'input_ids': torch.tensor(self.input_ids.iloc[idx]),\n",
    "            'attention_mask': torch.tensor(self.attention_mask.iloc[idx]),\n",
    "            'labels': torch.tensor(self.labels.iloc[idx])\n",
    "        }\n",
    "\n",
    "    def __len__(self):\n",
    "        return len(self.labels)"
   ]
  },
  {
   "cell_type": "markdown",
   "id": "80364d436907326e",
   "metadata": {},
   "source": [
    "##### Séparation du jeu de données\n",
    "Il ne reste désormais plus qu'à séparer le jeu de données en plusieurs sous-jeux de données, un dédié à l'entraînement, un autre dédié à l'évaluation, ainsi qu'un jeu de données dédié au test :"
   ]
  },
  {
   "cell_type": "code",
   "execution_count": 13,
   "id": "b8ec7837e629fd4e",
   "metadata": {
    "ExecuteTime": {
     "end_time": "2024-05-05T18:22:31.608829Z",
     "start_time": "2024-05-05T18:22:31.550194Z"
    }
   },
   "outputs": [
    {
     "name": "stderr",
     "output_type": "stream",
     "text": [
      "/Users/clement/Documents/IA_SCHOOL/projetia/.venv/lib/python3.10/site-packages/numpy/core/fromnumeric.py:59: FutureWarning: 'DataFrame.swapaxes' is deprecated and will be removed in a future version. Please use 'DataFrame.transpose' instead.\n",
      "  return bound(*args, **kwds)\n"
     ]
    }
   ],
   "source": [
    "import numpy as np\n",
    "\n",
    "\n",
    "train, val, test = np.split(\n",
    "    df.sample(frac=1),\n",
    "    [int(.7*len(df)), int(.8*len(df))]\n",
    ")\n",
    "\n",
    "train_dataset = NERDataset(train)\n",
    "val_dataset = NERDataset(val)\n",
    "test_dataset = NERDataset(test)"
   ]
  },
  {
   "cell_type": "markdown",
   "id": "5aeaa2b404038a87",
   "metadata": {},
   "source": [
    "### Entraînement du modèle\n",
    "Comme dit plus tôt, le modèle à partir duquel nous allons créer notre NER est le modèle `camembert-base`. La première étape consiste à le télécharger et à l'importer. On vient également dès maintenant préciser quelles sont les différentes classes visibles dans le jeu de données."
   ]
  },
  {
   "cell_type": "code",
   "execution_count": 14,
   "id": "8d3a3121641e066a",
   "metadata": {
    "ExecuteTime": {
     "end_time": "2024-05-05T18:22:33.628145Z",
     "start_time": "2024-05-05T18:22:31.609904Z"
    }
   },
   "outputs": [
    {
     "name": "stderr",
     "output_type": "stream",
     "text": [
      "Some weights of CamembertForTokenClassification were not initialized from the model checkpoint at camembert-base and are newly initialized: ['classifier.bias', 'classifier.weight']\n",
      "You should probably TRAIN this model on a down-stream task to be able to use it for predictions and inference.\n"
     ]
    }
   ],
   "source": [
    "from transformers import AutoModelForTokenClassification\n",
    "\n",
    "\n",
    "model = AutoModelForTokenClassification.from_pretrained(\n",
    "    pretrained_model_name_or_path='camembert-base',\n",
    "    num_labels=len(ID2LABEL),\n",
    "    id2label=ID2LABEL,\n",
    "    label2id=LABEL2ID\n",
    ")"
   ]
  },
  {
   "cell_type": "markdown",
   "id": "e7970f9aba301eb",
   "metadata": {},
   "source": [
    "Par la suite, nous devons définir les modalités d'entraînement du modèle. Pour cela, nous allons utiliser la l'outil `TrainingArguments` :"
   ]
  },
  {
   "cell_type": "code",
   "execution_count": 15,
   "id": "88e20c3d71182e8e",
   "metadata": {
    "ExecuteTime": {
     "end_time": "2024-05-05T18:22:33.697567Z",
     "start_time": "2024-05-05T18:22:33.629675Z"
    }
   },
   "outputs": [],
   "source": [
    "from transformers import TrainingArguments\n",
    "\n",
    "\n",
    "training_args = TrainingArguments(\n",
    "    output_dir='./models/RoBERTa-ner',\n",
    "    evaluation_strategy='epoch',\n",
    "    save_strategy='epoch',\n",
    "    learning_rate=2e-5,\n",
    "    per_device_train_batch_size=16,\n",
    "    per_device_eval_batch_size=16,\n",
    "    num_train_epochs=3,\n",
    "    weight_decay=0.01,\n",
    "    load_best_model_at_end=True\n",
    ")"
   ]
  },
  {
   "cell_type": "markdown",
   "id": "8f6f81f71356ed48",
   "metadata": {},
   "source": [
    "On définit également un `DataCollator`, qui s'occupe de la mise en forme des données d'entrée, comme du padding :"
   ]
  },
  {
   "cell_type": "code",
   "execution_count": 16,
   "id": "132fd35b0e894b30",
   "metadata": {
    "ExecuteTime": {
     "end_time": "2024-05-05T18:22:34.382250Z",
     "start_time": "2024-05-05T18:22:33.698841Z"
    }
   },
   "outputs": [],
   "source": [
    "from transformers import DataCollatorForTokenClassification\n",
    "\n",
    "\n",
    "data_collator = DataCollatorForTokenClassification(tokenizer=tokenizer)"
   ]
  },
  {
   "cell_type": "markdown",
   "id": "bfc45a2f03be3d8b",
   "metadata": {},
   "source": [
    "Pour un modèle de NER, il est recommandé d'utiliser la métrique *seqeval*. Par ailleurs, nous définirons une fonction `compute_metrics` qui retourne les différents scores intéressants pour juger des performances du modèle :"
   ]
  },
  {
   "cell_type": "code",
   "execution_count": 17,
   "id": "2b5bb6df66152896",
   "metadata": {
    "ExecuteTime": {
     "end_time": "2024-05-05T18:22:34.593978Z",
     "start_time": "2024-05-05T18:22:34.383266Z"
    }
   },
   "outputs": [],
   "source": [
    "import evaluate\n",
    "\n",
    "import numpy as np\n",
    "\n",
    "\n",
    "def compute_metrics(p):\n",
    "    predictions, labels = p\n",
    "    predictions = np.argmax(predictions, axis=2)\n",
    "\n",
    "    results = evaluate.load('seqeval').compute(\n",
    "        predictions=[\n",
    "            [ID2LABEL[p] for (p, l) in zip(prediction, label) if l != -100]\n",
    "            for prediction, label in zip(predictions, labels)\n",
    "        ],\n",
    "        references=[\n",
    "            [ID2LABEL[l] for (p, l) in zip(prediction, label) if l != -100]\n",
    "            for prediction, label in zip(predictions, labels)\n",
    "        ]\n",
    "    )\n",
    "\n",
    "    return {\n",
    "        \"precision\": results[\"overall_precision\"],\n",
    "        \"recall\": results[\"overall_recall\"],\n",
    "        \"f1\": results[\"overall_f1\"],\n",
    "        \"accuracy\": results[\"overall_accuracy\"],\n",
    "    }"
   ]
  },
  {
   "cell_type": "markdown",
   "id": "c24fae3affcd531e",
   "metadata": {},
   "source": [
    "Pour finir, on définit une instance de la classe `Trainer` à partir de laquelle l'entraînement se fera :"
   ]
  },
  {
   "cell_type": "code",
   "execution_count": 18,
   "id": "82eb82af0043eb73",
   "metadata": {
    "ExecuteTime": {
     "end_time": "2024-05-05T18:22:34.933406Z",
     "start_time": "2024-05-05T18:22:34.594757Z"
    }
   },
   "outputs": [],
   "source": [
    "from transformers import Trainer\n",
    "\n",
    "\n",
    "trainer = Trainer(\n",
    "    model=model,\n",
    "    args=training_args,\n",
    "    data_collator=data_collator,\n",
    "    train_dataset=train_dataset,\n",
    "    eval_dataset=val_dataset,\n",
    "    tokenizer=tokenizer,\n",
    "    compute_metrics=compute_metrics\n",
    ")"
   ]
  },
  {
   "cell_type": "markdown",
   "id": "b3be273cf913cb96",
   "metadata": {},
   "source": [
    "Il ne reste plus qu'à lancer l'entraînement. Des messages d'avertissement apparaîtront au cours de chaque évaluation, car les noms utilisés pour désigner les différents types d'entités ne sont pas conventionnels. Toutefois, cela n'empêche absolument pas l'évaluation d'avoir lieu et ne pose finalement aucun problème sagissant de l'entraînement. "
   ]
  },
  {
   "cell_type": "code",
   "execution_count": 19,
   "id": "d67829c38d9181ec",
   "metadata": {
    "ExecuteTime": {
     "end_time": "2024-05-05T18:28:59.786518Z",
     "start_time": "2024-05-05T18:22:34.934096Z"
    }
   },
   "outputs": [
    {
     "data": {
      "text/html": [
       "\n",
       "    <div>\n",
       "      \n",
       "      <progress value='17601' max='17601' style='width:300px; height:20px; vertical-align: middle;'></progress>\n",
       "      [17601/17601 7:54:23, Epoch 3/3]\n",
       "    </div>\n",
       "    <table border=\"1\" class=\"dataframe\">\n",
       "  <thead>\n",
       " <tr style=\"text-align: left;\">\n",
       "      <th>Epoch</th>\n",
       "      <th>Training Loss</th>\n",
       "      <th>Validation Loss</th>\n",
       "      <th>Precision</th>\n",
       "      <th>Recall</th>\n",
       "      <th>F1</th>\n",
       "      <th>Accuracy</th>\n",
       "    </tr>\n",
       "  </thead>\n",
       "  <tbody>\n",
       "    <tr>\n",
       "      <td>1</td>\n",
       "      <td>0.050300</td>\n",
       "      <td>0.046305</td>\n",
       "      <td>0.903625</td>\n",
       "      <td>0.907808</td>\n",
       "      <td>0.905712</td>\n",
       "      <td>0.986609</td>\n",
       "    </tr>\n",
       "    <tr>\n",
       "      <td>2</td>\n",
       "      <td>0.036000</td>\n",
       "      <td>0.041039</td>\n",
       "      <td>0.912554</td>\n",
       "      <td>0.915612</td>\n",
       "      <td>0.914081</td>\n",
       "      <td>0.987596</td>\n",
       "    </tr>\n",
       "    <tr>\n",
       "      <td>3</td>\n",
       "      <td>0.025400</td>\n",
       "      <td>0.041329</td>\n",
       "      <td>0.915012</td>\n",
       "      <td>0.918522</td>\n",
       "      <td>0.916764</td>\n",
       "      <td>0.988079</td>\n",
       "    </tr>\n",
       "  </tbody>\n",
       "</table><p>"
      ],
      "text/plain": [
       "<IPython.core.display.HTML object>"
      ]
     },
     "metadata": {},
     "output_type": "display_data"
    },
    {
     "name": "stderr",
     "output_type": "stream",
     "text": [
      "/Users/clement/Documents/IA_SCHOOL/projetia/.venv/lib/python3.10/site-packages/seqeval/metrics/sequence_labeling.py:171: UserWarning: LOC seems not to be NE tag.\n",
      "  warnings.warn('{} seems not to be NE tag.'.format(chunk))\n",
      "/Users/clement/Documents/IA_SCHOOL/projetia/.venv/lib/python3.10/site-packages/seqeval/metrics/sequence_labeling.py:171: UserWarning: PER seems not to be NE tag.\n",
      "  warnings.warn('{} seems not to be NE tag.'.format(chunk))\n",
      "/Users/clement/Documents/IA_SCHOOL/projetia/.venv/lib/python3.10/site-packages/seqeval/metrics/sequence_labeling.py:171: UserWarning: MISC seems not to be NE tag.\n",
      "  warnings.warn('{} seems not to be NE tag.'.format(chunk))\n",
      "/Users/clement/Documents/IA_SCHOOL/projetia/.venv/lib/python3.10/site-packages/seqeval/metrics/sequence_labeling.py:171: UserWarning: ORG seems not to be NE tag.\n",
      "  warnings.warn('{} seems not to be NE tag.'.format(chunk))\n",
      "/Users/clement/Documents/IA_SCHOOL/projetia/.venv/lib/python3.10/site-packages/seqeval/metrics/sequence_labeling.py:171: UserWarning: LOC seems not to be NE tag.\n",
      "  warnings.warn('{} seems not to be NE tag.'.format(chunk))\n",
      "/Users/clement/Documents/IA_SCHOOL/projetia/.venv/lib/python3.10/site-packages/seqeval/metrics/sequence_labeling.py:171: UserWarning: PER seems not to be NE tag.\n",
      "  warnings.warn('{} seems not to be NE tag.'.format(chunk))\n",
      "/Users/clement/Documents/IA_SCHOOL/projetia/.venv/lib/python3.10/site-packages/seqeval/metrics/sequence_labeling.py:171: UserWarning: MISC seems not to be NE tag.\n",
      "  warnings.warn('{} seems not to be NE tag.'.format(chunk))\n",
      "/Users/clement/Documents/IA_SCHOOL/projetia/.venv/lib/python3.10/site-packages/seqeval/metrics/sequence_labeling.py:171: UserWarning: ORG seems not to be NE tag.\n",
      "  warnings.warn('{} seems not to be NE tag.'.format(chunk))\n",
      "/Users/clement/Documents/IA_SCHOOL/projetia/.venv/lib/python3.10/site-packages/seqeval/metrics/sequence_labeling.py:171: UserWarning: LOC seems not to be NE tag.\n",
      "  warnings.warn('{} seems not to be NE tag.'.format(chunk))\n",
      "/Users/clement/Documents/IA_SCHOOL/projetia/.venv/lib/python3.10/site-packages/seqeval/metrics/sequence_labeling.py:171: UserWarning: PER seems not to be NE tag.\n",
      "  warnings.warn('{} seems not to be NE tag.'.format(chunk))\n",
      "/Users/clement/Documents/IA_SCHOOL/projetia/.venv/lib/python3.10/site-packages/seqeval/metrics/sequence_labeling.py:171: UserWarning: MISC seems not to be NE tag.\n",
      "  warnings.warn('{} seems not to be NE tag.'.format(chunk))\n",
      "/Users/clement/Documents/IA_SCHOOL/projetia/.venv/lib/python3.10/site-packages/seqeval/metrics/sequence_labeling.py:171: UserWarning: ORG seems not to be NE tag.\n",
      "  warnings.warn('{} seems not to be NE tag.'.format(chunk))\n"
     ]
    },
    {
     "data": {
      "text/plain": [
       "TrainOutput(global_step=17601, training_loss=0.052019347481331794, metrics={'train_runtime': 28465.7141, 'train_samples_per_second': 9.892, 'train_steps_per_second': 0.618, 'total_flos': 5.116183912124064e+16, 'train_loss': 0.052019347481331794, 'epoch': 3.0})"
      ]
     },
     "execution_count": 19,
     "metadata": {},
     "output_type": "execute_result"
    }
   ],
   "source": [
    "trainer.train()"
   ]
  },
  {
   "cell_type": "markdown",
   "id": "d0da4e3b9f90f985",
   "metadata": {},
   "source": [
    "Après quelques heures d'entraînement du modèle, on peut finalement le tester sur le dataset de `test_dataset` :"
   ]
  },
  {
   "cell_type": "code",
   "execution_count": 21,
   "id": "1a3b95d08786d2ec",
   "metadata": {
    "ExecuteTime": {
     "end_time": "2024-05-05T18:28:59.828830Z",
     "start_time": "2024-05-05T18:28:59.826585Z"
    }
   },
   "outputs": [
    {
     "data": {
      "text/plain": [
       "{'eval_loss': 0.03934510797262192,\n",
       " 'eval_precision': 0.9106168511011286,\n",
       " 'eval_recall': 0.9165416850463167,\n",
       " 'eval_f1': 0.9135696619950535,\n",
       " 'eval_accuracy': 0.9881228257772491,\n",
       " 'eval_runtime': 648.2059,\n",
       " 'eval_samples_per_second': 41.374,\n",
       " 'eval_steps_per_second': 2.587,\n",
       " 'epoch': 3.0}"
      ]
     },
     "execution_count": 21,
     "metadata": {},
     "output_type": "execute_result"
    }
   ],
   "source": [
    "trainer.evaluate(test_dataset)"
   ]
  },
  {
   "cell_type": "markdown",
   "id": "f60c8d69-327b-46b2-abb5-5dd12f8bf4e6",
   "metadata": {},
   "source": [
    "Les données relatives à l'entraînement ont été automatiquement enregistrées dans un attribut de l'objet ; on peut les retrouver ainsi :"
   ]
  },
  {
   "cell_type": "code",
   "execution_count": 39,
   "id": "cea772cc-9bf1-4c5d-b937-83d17314ed99",
   "metadata": {},
   "outputs": [],
   "source": [
    "import matplotlib.pyplot as plt\n",
    "\n",
    "\n",
    "eval_logs = [\n",
    "    record\n",
    "    for record in trainer.state.log_history\n",
    "    if list(record.keys())[0] == 'eval_loss'\n",
    "][:-2]\n",
    "train_logs = [\n",
    "    record\n",
    "    for record in trainer.state.log_history\n",
    "    if list(record.keys())[0] == 'loss'\n",
    "][:-1]"
   ]
  },
  {
   "cell_type": "markdown",
   "id": "67aa9805-c20f-4a5b-ae23-39c05a5642ae",
   "metadata": {},
   "source": [
    "On peut alors tracer les coubes de perte et de précision du modèle :"
   ]
  },
  {
   "cell_type": "code",
   "execution_count": 50,
   "id": "f02c922a-9d8a-452f-a4fa-16fe406da244",
   "metadata": {},
   "outputs": [
    {
     "data": {
      "image/png": "[encoded data removed]",
      "text/plain": [
       "<Figure size 2000x1200 with 2 Axes>"
      ]
     },
     "metadata": {},
     "output_type": "display_data"
    }
   ],
   "source": [
    "import matplotlib.pyplot as plt\n",
    "\n",
    "\n",
    "plt.figure(figsize=(20, 12))\n",
    "\n",
    "plt.subplot(2, 1, 1)\n",
    "plt.plot(\n",
    "    [train_log['step'] for train_log in train_logs],\n",
    "    [train_log['loss'] for train_log in train_logs],\n",
    "    label='Train loss'\n",
    ")\n",
    "plt.plot(\n",
    "    [eval_log['step'] for eval_log in eval_logs],\n",
    "    [eval_log['eval_loss'] for eval_log in eval_logs],\n",
    "    label='Eval loss'\n",
    ")\n",
    "plt.xlabel('Step')\n",
    "plt.legend()\n",
    "plt.title(\"Évolution de la perte au fil de l'entraînement\")\n",
    "\n",
    "plt.subplot(2, 1, 2)\n",
    "plt.plot(\n",
    "    [eval_log['epoch'] for eval_log in eval_logs],\n",
    "    [eval_log['eval_accuracy'] for eval_log in eval_logs],\n",
    ")\n",
    "plt.xlabel('Epoch')\n",
    "plt.title(\"Évolution de la précision sur le jeu d'évaluation au fil de l'entraînement\")\n",
    "\n",
    "plt.show()"
   ]
  },
  {
   "cell_type": "markdown",
   "id": "2de8db1c-cc4b-4b48-b3ff-e12e7b18faed",
   "metadata": {},
   "source": [
    "Le modèle est d'ores-et-déjà enregistré localement, mais nous allons également faire une sauvegarde sur *HuggingFace* pour pouvoir le récupérer plus tard depuis n'importe quel appareil :"
   ]
  },
  {
   "cell_type": "code",
   "execution_count": 52,
   "id": "18c89fe0-800b-46db-b16d-9e057768ac45",
   "metadata": {},
   "outputs": [
    {
     "data": {
      "application/vnd.jupyter.widget-view+json": {
       "model_id": "8c90d508989941e59c13ddaa54acb6a0",
       "version_major": 2,
       "version_minor": 0
      },
      "text/plain": [
       "Upload 2 LFS files:   0%|          | 0/2 [00:00<?, ?it/s]"
      ]
     },
     "metadata": {},
     "output_type": "display_data"
    },
    {
     "data": {
      "application/vnd.jupyter.widget-view+json": {
       "model_id": "54b6d2405810477daa7c55951864f54d",
       "version_major": 2,
       "version_minor": 0
      },
      "text/plain": [
       "model.safetensors:   0%|          | 0.00/440M [00:00<?, ?B/s]"
      ]
     },
     "metadata": {},
     "output_type": "display_data"
    },
    {
     "data": {
      "application/vnd.jupyter.widget-view+json": {
       "model_id": "6acb8ea586aa4cb699bafd7794dcf91b",
       "version_major": 2,
       "version_minor": 0
      },
      "text/plain": [
       "training_args.bin:   0%|          | 0.00/4.98k [00:00<?, ?B/s]"
      ]
     },
     "metadata": {},
     "output_type": "display_data"
    },
    {
     "data": {
      "text/plain": [
       "CommitInfo(commit_url='https://huggingface.co/Clemnt73/RoBERTa-ner/commit/b80ebfacd6aa02415d68c00789a38126e58242ef', commit_message='End of training', commit_description='', oid='b80ebfacd6aa02415d68c00789a38126e58242ef', pr_url=None, pr_revision=None, pr_num=None)"
      ]
     },
     "execution_count": 52,
     "metadata": {},
     "output_type": "execute_result"
    }
   ],
   "source": [
    "trainer.push_to_hub()"
   ]
  },
  {
   "metadata": {},
   "cell_type": "markdown",
   "source": [
    "### Conclusion\n",
    "Notre modèle est désormais entraîné, testé et sauvegardé ! Il ne reste désormais plus qu'à le mettre en production dans notre système de RAG afin d'en apprécier la plus-value !"
   ],
   "id": "73d389ed84549331"
  },
  {
   "metadata": {},
   "cell_type": "code",
   "outputs": [],
   "execution_count": null,
   "source": "",
   "id": "3a902159c1b3500b"
  }
 ],
 "metadata": {
  "kernelspec": {
   "display_name": "Python 3 (ipykernel)",
   "language": "python",
   "name": "python3"
  },
  "language_info": {
   "codemirror_mode": {
    "name": "ipython",
    "version": 3
   },
   "file_extension": ".py",
   "mimetype": "text/x-python",
   "name": "python",
   "nbconvert_exporter": "python",
   "pygments_lexer": "ipython3",
   "version": "3.10.8"
  }
 },
 "nbformat": 4,
 "nbformat_minor": 5
}
