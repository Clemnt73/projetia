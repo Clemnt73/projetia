{
 "cells": [
  {
   "metadata": {},
   "cell_type": "markdown",
   "source": [
    "# Comprendre le séquençage des opérations du RAG\n",
    "Ce notebook est mis à disposition afin de comprendre le fonctionnement du système de chat avec recherche de contexte."
   ],
   "id": "4d3deb647eda17cb"
  },
  {
   "metadata": {},
   "cell_type": "markdown",
   "source": "### Étape 1 : Saisie de la question par l'utilisateur",
   "id": "a00ab15102466b3b"
  },
  {
   "metadata": {
    "ExecuteTime": {
     "end_time": "2024-05-08T17:25:12.549029Z",
     "start_time": "2024-05-08T17:25:12.546536Z"
    }
   },
   "cell_type": "code",
   "source": [
    "# Libre à vous de changer la question si vous le souhaitez, mais tous les commentaires du notebook ont été rédigés en se basant sur une démonstration faite à partir de la question suivante :\n",
    "query = \"Quelle est la superficie de la région urbaine de Lyon ?\""
   ],
   "id": "a480b2fc0cdb0648",
   "outputs": [],
   "execution_count": 10
  },
  {
   "metadata": {},
   "cell_type": "markdown",
   "source": [
    "### Étape 2 : Recherche de mots-clés dans la question de l'utilisateur\n",
    "La recherche de mots-clés se fait au travers d'un modèle de NLP capable d'extraire, à partir d'une phrase donnée, les différentes entités qui figurent dedans (localité, organisation, personne …)"
   ],
   "id": "a5ef4bfe889fe56e"
  },
  {
   "metadata": {
    "ExecuteTime": {
     "end_time": "2024-05-08T17:25:13.091673Z",
     "start_time": "2024-05-08T17:25:12.567659Z"
    }
   },
   "cell_type": "code",
   "source": [
    "from src.ner import NaturalEntityRecognizer\n",
    "\n",
    "\n",
    "ner = NaturalEntityRecognizer('Clemnt73/RoBERTa-ner')\n",
    "keywords = ner(query)\n",
    "\n",
    "keywords"
   ],
   "id": "7e9c3e2111e48bde",
   "outputs": [
    {
     "data": {
      "text/plain": [
       "['région urbaine de Lyon']"
      ]
     },
     "execution_count": 11,
     "metadata": {},
     "output_type": "execute_result"
    }
   ],
   "execution_count": 11
  },
  {
   "metadata": {},
   "cell_type": "markdown",
   "source": [
    "### Étape 3 : Recherche d'articles relatifs au sujet sur Wikipedia\n",
    "Le modèle de reconnaissance d'entités est bien parvenu à isoler le(s) sujet(s) important(s) dans la phrase. Dès lors, nous pouvons effectuer une recherche sur Wikipedia à partir des mots-clés trouvés :"
   ],
   "id": "ef32fd989e3dbd5"
  },
  {
   "metadata": {
    "ExecuteTime": {
     "end_time": "2024-05-08T17:25:16.128606Z",
     "start_time": "2024-05-08T17:25:13.093150Z"
    }
   },
   "cell_type": "code",
   "source": [
    "from typing import List\n",
    "\n",
    "from src.wiki import search_wikipedia\n",
    "\n",
    "\n",
    "wiki: List[str] = []\n",
    "\n",
    "for keyword in keywords:\n",
    "    wiki.append(search_wikipedia(keyword))\n",
    "    \n",
    "wiki"
   ],
   "id": "bf37a7141673b88d",
   "outputs": [
    {
     "data": {
      "text/plain": [
       "[\"La Région Urbaine de Lyon (RUL) était une association loi de 1901 qui réunissait les grandes collectivités locales de la région lyonnaise. Créée en 1989, elle avait pour missions d’animer la concertation entre ces collectivités, mais aussi d’élaborer des stratégies et de lancer des projets à l’échelle métropolitaine. Elle a cessé ses activités le 1er avril 2015.\\n\\n\\n== Membres ==\\nLa RUL réunissait en 2012 la Région Rhône-Alpes, le Pôle Métropolitain (qui rassemble le Grand Lyon et les communautés d'agglomération de Saint-Étienne Métropole, de ViennAgglo, et de la Porte de l'Isère), les départements de l’Ain, de l’Isère, de la Loire et du Rhône, les communautés d’agglomération de Villefranche-sur-Saône, du Roannais, et de Bourg-en-Bresse..\\nElle était coprésidée par le président du Grand Lyon (Gérard Collomb) et le président de la Région Rhône-Alpes (Jean-Jack Queyranne). Le président délégué était Jean-Paul Bret, maire de Villeurbanne.\\n\\n\\n== Objectifs ==\\nLa région lyonnaise est confrontée à un découpage administratif particulièrement complexe. Ce territoire se situe au carrefour de 4 départements et est structuré autour de 2 grandes agglomérations (Lyon et St-Étienne). Or la réalité des pratiques et des échanges économiques, sociaux, ou culturels a façonné ce territoire à une échelle qui ne tient pas compte de ces périmètres administratifs. \\nL’association RUL a été créée en réponse au décalage croissant entre cette dynamique métropolitaine et le contexte institutionnel. L’objectif de la RUL était donc de transcender les limites administratives pour construire une vision cohérente et partagée de l’aménagement et du développement de l’espace métropolitain.\\nLa RUL constituait un lieu neutre permettant une coproduction d’idées et une mise en convergence des politiques dans le respect des compétences de chacun de ses membres. \\n\\n\\n== Missions ==\\nEn 2012, les missions de la RUL consistaient à :\\n\\nExplorer et anticiper des champs nouveaux et des thématiques émergentes. Elle intervenait en posture de recherche et développement. Elle avait notamment conduit la démarche prospective Cap sur 2030.\\nÉlaborer des stratégies partagées pour veiller à la cohérence d’ensemble des actions conduites par chacun. C’était par exemple le cas dans le domaine de la logistique.\\nIncuber des projets afin de traduire ces stratégies communes en démarches concrètes. Les démarches Tourisme métropolitain, MétroPôle Images et Patrimoine 21 en étaient l’illustration. \\nPorter des actions. Une fois le projet partenarial mis sur pied, la RUL intervenait pour le faire vivre, évoluer et progresser. Elle animait par exemple les actions Utopies Réalisées et OMPREL.\\n\\n\\n== Fonctionnement ==\\nLe fonctionnement de la Région Urbaine de Lyon reposait sur une Assemblée générale et un Comité d’orientation.\\n\\nle Comité d’orientation définissait le programme de travail de l’association (thématiques à aborder, études à engager, projets à mettre en œuvre…)\\nl’Assemblée générale validait les grandes orientations et adopte le budget. Les ressources de l’association provenaient des cotisations versées par ses membres.\\nEn 2014, l’effectif de l’association était de 4 personnes.\\n\\n\\n== Périmètre ==\\nLe périmètre de la RUL était avant tout un périmètre d’études et de projets. Cet espace englobait 810 communes pour une superficie de 10 378 km2 et une population totale de 3,2 millions d’habitants (soit la moitié de la population de Rhône-Alpes). Il intégrait notamment les agglomérations de Lyon, Saint-Étienne, Vienne, Bourg-en-Bresse, Roanne, Bourgoin-Jallieu, L'Isle-d'Abeau, Villefranche-sur-Saône ou Ambérieu-en-Bugey.\\n\\n\\n== Chiffres ==\\nSelon la RUL et son site officiel[réf. nécessaire], la région urbaine de Lyon représentait :\\n\\n10 378 km2\\n5 axes autoroutiers\\n13 axes ferroviaires\\n3.2 millions d'habitants\\n8.2 millions (2011) de passagers par an depuis l'Aéroport de Lyon-Saint-Exupéry\\n150 000 étudiants dans l'enseignement supérieur.\\n810 communes\\n7 communautés d'agglomération\\n67 communautés de communes\\n51 % de la population de Rhône-Alpes\\n1,2 million d'emplois\\n7 pôles de compétitivité labellisés\\n10 pôles de compétence\\n\\n\\n== Successeurs ==\\nCertaines des actions de la RUL ont été reprises à des échelles plus restreintes par le Pôle Métropolitain et le Syndicat mixte des transports pour l'aire métropolitaine lyonnaise (SMTAML).\\n\\n\\n== Notes et références ==\\n\\n\\n== Lien externe ==\\nSite de la RUL\\n Portail du département du Rhône   Portail de la métropole de Lyon\"]"
      ]
     },
     "execution_count": 12,
     "metadata": {},
     "output_type": "execute_result"
    }
   ],
   "execution_count": 12
  },
  {
   "metadata": {},
   "cell_type": "markdown",
   "source": [
    "La liste `wiki` contient le contenu du/des article(s) trouvé(s) sur Wikipédia à partir du/des mot(s) clés. Cet exemple nous montre que la liste contient un article ; mais en l'état, on ne sait toujours pas quelle partie de cet article sera la plus pertinente pour répondre à la question.\n",
    "\n",
    "C'est ici qu'intervient la base de donnée vectorielle : par analyse sémantique, la base vectorielle sera en mesure de déterminer quelle partie de l'article est la *plus proche* de la question de l'utilisateur."
   ],
   "id": "9bc2f0dc7f687553"
  },
  {
   "metadata": {},
   "cell_type": "markdown",
   "source": [
    "### Étape 4 : Recherche de l'information la plus pertinente parmi les articles trouvés\n",
    "La première étape consiste à construire cette base de données vectorielle à partir de la liste `wiki` :"
   ],
   "id": "b9007e4c27bff36b"
  },
  {
   "metadata": {
    "ExecuteTime": {
     "end_time": "2024-05-08T17:25:16.133173Z",
     "start_time": "2024-05-08T17:25:16.130361Z"
    }
   },
   "cell_type": "code",
   "source": "#TODO: Implémenter la partie construction de la base de données vectorielle",
   "id": "a7c03970bd2daefa",
   "outputs": [],
   "execution_count": 13
  },
  {
   "metadata": {},
   "cell_type": "markdown",
   "source": "La seconde étape, maintenant que la base de données vectorielle est complète, est de faire une requête qui reprend la question initialement posée par l'utilisateur et retourne le texte le *plus proche* sémantiquement :",
   "id": "24464c4bccba0956"
  },
  {
   "metadata": {
    "ExecuteTime": {
     "end_time": "2024-05-08T17:25:16.138019Z",
     "start_time": "2024-05-08T17:25:16.135844Z"
    }
   },
   "cell_type": "code",
   "source": [
    "#TODO : Implémenter la partie requête de la base de données vectorielle\n",
    "context = wiki[0]"
   ],
   "id": "46549ebbab7d86a3",
   "outputs": [],
   "execution_count": 14
  },
  {
   "metadata": {},
   "cell_type": "markdown",
   "source": [
    "### Étape 5 : Préparation du prompt\n",
    "Nous avons maintenant obtenu l'information la plus pertinente par rapport à la question initialement posée. Il est donc désormais possible de préparer la requête qui sera par la suite envoyée au LLM. Pour cela, nous allons tout d'abord préparer un modèle générique de question :"
   ],
   "id": "dac4b96f2dd9b6d6"
  },
  {
   "metadata": {
    "ExecuteTime": {
     "end_time": "2024-05-08T17:25:16.142260Z",
     "start_time": "2024-05-08T17:25:16.139624Z"
    }
   },
   "cell_type": "code",
   "source": [
    "PROMPT_TEMPLATE = \"\"\"\n",
    "Tu es un journaliste senior qui aime rétablir la vérité dans les informations.\n",
    "Répond à la question en français et dit que tu ne sais pas si tu n'as pas l'information. Tu peux t'aider du contexte suivant, qui provient directement de Wikipedia, pour appuyer tes propos :\n",
    "\n",
    "{context}\n",
    "\n",
    "Question :\n",
    "\n",
    "{question}\n",
    "\"\"\""
   ],
   "id": "4742c60929d5537c",
   "outputs": [],
   "execution_count": 15
  },
  {
   "metadata": {},
   "cell_type": "markdown",
   "source": "Il s'agit ici d'un modèle qu'il faut compléter par les éléments que nous avons à notre disposition. En particulier, la variable `context` sera remplacée par l'article trouvé par la base de donnée vectorielle tandis que la variable `question` sera complétée par la question initialement posée par l'utilisateur :",
   "id": "b02f0a7e6ce869af"
  },
  {
   "metadata": {
    "ExecuteTime": {
     "end_time": "2024-05-08T17:25:16.145996Z",
     "start_time": "2024-05-08T17:25:16.143503Z"
    }
   },
   "cell_type": "code",
   "source": [
    "prompt = PROMPT_TEMPLATE.format(\n",
    "    context=context,\n",
    "    question=query\n",
    ")\n",
    "print(prompt)"
   ],
   "id": "847007afa9adaf9d",
   "outputs": [
    {
     "name": "stdout",
     "output_type": "stream",
     "text": [
      "\n",
      "Tu es un journaliste senior qui aime rétablir la vérité dans les informations.\n",
      "Répond à la question en français et dit que tu ne sais pas si tu n'as pas l'information. Tu peux t'aider du contexte suivant, qui provient directement de Wikipedia, pour appuyer tes propos :\n",
      "\n",
      "La Région Urbaine de Lyon (RUL) était une association loi de 1901 qui réunissait les grandes collectivités locales de la région lyonnaise. Créée en 1989, elle avait pour missions d’animer la concertation entre ces collectivités, mais aussi d’élaborer des stratégies et de lancer des projets à l’échelle métropolitaine. Elle a cessé ses activités le 1er avril 2015.\n",
      "\n",
      "\n",
      "== Membres ==\n",
      "La RUL réunissait en 2012 la Région Rhône-Alpes, le Pôle Métropolitain (qui rassemble le Grand Lyon et les communautés d'agglomération de Saint-Étienne Métropole, de ViennAgglo, et de la Porte de l'Isère), les départements de l’Ain, de l’Isère, de la Loire et du Rhône, les communautés d’agglomération de Villefranche-sur-Saône, du Roannais, et de Bourg-en-Bresse..\n",
      "Elle était coprésidée par le président du Grand Lyon (Gérard Collomb) et le président de la Région Rhône-Alpes (Jean-Jack Queyranne). Le président délégué était Jean-Paul Bret, maire de Villeurbanne.\n",
      "\n",
      "\n",
      "== Objectifs ==\n",
      "La région lyonnaise est confrontée à un découpage administratif particulièrement complexe. Ce territoire se situe au carrefour de 4 départements et est structuré autour de 2 grandes agglomérations (Lyon et St-Étienne). Or la réalité des pratiques et des échanges économiques, sociaux, ou culturels a façonné ce territoire à une échelle qui ne tient pas compte de ces périmètres administratifs. \n",
      "L’association RUL a été créée en réponse au décalage croissant entre cette dynamique métropolitaine et le contexte institutionnel. L’objectif de la RUL était donc de transcender les limites administratives pour construire une vision cohérente et partagée de l’aménagement et du développement de l’espace métropolitain.\n",
      "La RUL constituait un lieu neutre permettant une coproduction d’idées et une mise en convergence des politiques dans le respect des compétences de chacun de ses membres. \n",
      "\n",
      "\n",
      "== Missions ==\n",
      "En 2012, les missions de la RUL consistaient à :\n",
      "\n",
      "Explorer et anticiper des champs nouveaux et des thématiques émergentes. Elle intervenait en posture de recherche et développement. Elle avait notamment conduit la démarche prospective Cap sur 2030.\n",
      "Élaborer des stratégies partagées pour veiller à la cohérence d’ensemble des actions conduites par chacun. C’était par exemple le cas dans le domaine de la logistique.\n",
      "Incuber des projets afin de traduire ces stratégies communes en démarches concrètes. Les démarches Tourisme métropolitain, MétroPôle Images et Patrimoine 21 en étaient l’illustration. \n",
      "Porter des actions. Une fois le projet partenarial mis sur pied, la RUL intervenait pour le faire vivre, évoluer et progresser. Elle animait par exemple les actions Utopies Réalisées et OMPREL.\n",
      "\n",
      "\n",
      "== Fonctionnement ==\n",
      "Le fonctionnement de la Région Urbaine de Lyon reposait sur une Assemblée générale et un Comité d’orientation.\n",
      "\n",
      "le Comité d’orientation définissait le programme de travail de l’association (thématiques à aborder, études à engager, projets à mettre en œuvre…)\n",
      "l’Assemblée générale validait les grandes orientations et adopte le budget. Les ressources de l’association provenaient des cotisations versées par ses membres.\n",
      "En 2014, l’effectif de l’association était de 4 personnes.\n",
      "\n",
      "\n",
      "== Périmètre ==\n",
      "Le périmètre de la RUL était avant tout un périmètre d’études et de projets. Cet espace englobait 810 communes pour une superficie de 10 378 km2 et une population totale de 3,2 millions d’habitants (soit la moitié de la population de Rhône-Alpes). Il intégrait notamment les agglomérations de Lyon, Saint-Étienne, Vienne, Bourg-en-Bresse, Roanne, Bourgoin-Jallieu, L'Isle-d'Abeau, Villefranche-sur-Saône ou Ambérieu-en-Bugey.\n",
      "\n",
      "\n",
      "== Chiffres ==\n",
      "Selon la RUL et son site officiel[réf. nécessaire], la région urbaine de Lyon représentait :\n",
      "\n",
      "10 378 km2\n",
      "5 axes autoroutiers\n",
      "13 axes ferroviaires\n",
      "3.2 millions d'habitants\n",
      "8.2 millions (2011) de passagers par an depuis l'Aéroport de Lyon-Saint-Exupéry\n",
      "150 000 étudiants dans l'enseignement supérieur.\n",
      "810 communes\n",
      "7 communautés d'agglomération\n",
      "67 communautés de communes\n",
      "51 % de la population de Rhône-Alpes\n",
      "1,2 million d'emplois\n",
      "7 pôles de compétitivité labellisés\n",
      "10 pôles de compétence\n",
      "\n",
      "\n",
      "== Successeurs ==\n",
      "Certaines des actions de la RUL ont été reprises à des échelles plus restreintes par le Pôle Métropolitain et le Syndicat mixte des transports pour l'aire métropolitaine lyonnaise (SMTAML).\n",
      "\n",
      "\n",
      "== Notes et références ==\n",
      "\n",
      "\n",
      "== Lien externe ==\n",
      "Site de la RUL\n",
      " Portail du département du Rhône   Portail de la métropole de Lyon\n",
      "\n",
      "Question :\n",
      "\n",
      "Quelle est la superficie de la région urbaine de Lyon ?\n",
      "\n"
     ]
    }
   ],
   "execution_count": 16
  },
  {
   "metadata": {},
   "cell_type": "markdown",
   "source": [
    "### Étape 6 : Inférence\n",
    "Notre prompt étant prêt, nous pouvons désormais procéder à l'inférence via l'API de *Groq*, qui utilise les LLM open sources pour répondre aux questions des utilisateurs. Mais avant cela, voyons ce qu'aurait répondu le LLM s'il n'avait pas eu le contexte qu'on lui a fourni :"
   ],
   "id": "ee7314ca143f4f4"
  },
  {
   "metadata": {
    "ExecuteTime": {
     "end_time": "2024-05-08T17:25:16.909781Z",
     "start_time": "2024-05-08T17:25:16.147183Z"
    }
   },
   "cell_type": "code",
   "source": [
    "from src.groq import get_groq_completions\n",
    "\n",
    "\n",
    "print(get_groq_completions(query))"
   ],
   "id": "a3429ec2550bba3d",
   "outputs": [
    {
     "name": "stdout",
     "output_type": "stream",
     "text": [
      "La région urbaine de Lyon, également appelée aire urbaine de Lyon, s'étend sur une superficie d'environ 5 628 km². Cela inclut l'unité urbaine de Lyon, qui couvre une superficie d'environ 478 km², ainsi que les communes périphériques qui forment la couronne périurbaine.\n",
      "\n",
      "Il est important de noter que les définitions et les limites des aires urbaines peuvent varier selon les sources et les méthodologies utilisées. Par conséquent, les chiffres peuvent légèrement varier en fonction de la source de données.\n"
     ]
    }
   ],
   "execution_count": 17
  },
  {
   "metadata": {},
   "cell_type": "markdown",
   "source": "",
   "id": "5d90c3c390fe6250"
  },
  {
   "metadata": {},
   "cell_type": "markdown",
   "source": [
    "Difficile de commenter la réponse, car elle différera à chaque nouvelle exécution du notebook … Toutefois, nous avons essayé plusieurs fois et n'avons jamais obtenu la bonne réponse : le LLM nous dit que la surface est de 5628 kilomètres-carrés alors que l'article *Wikipedia* fait mention d'une superficie de 10378 kilomètres-carrés.\n",
    "\n",
    "Voyons maintenant comment diffère la réponse du LLM si on fournit les informations trouvées sur *Wikipedia* grâce aux précédentes étapes :"
   ],
   "id": "f3b7a6d6f82eea8e"
  },
  {
   "metadata": {
    "ExecuteTime": {
     "end_time": "2024-05-08T17:25:18.331967Z",
     "start_time": "2024-05-08T17:25:16.911696Z"
    }
   },
   "cell_type": "code",
   "source": [
    "from src.groq import get_groq_completions\n",
    "\n",
    "\n",
    "print(get_groq_completions(prompt))"
   ],
   "id": "3573e4763d3f1fe0",
   "outputs": [
    {
     "name": "stdout",
     "output_type": "stream",
     "text": [
      "La superficie de la Région Urbaine de Lyon est de 10 378 km2. Cette information est disponible dans la section \"Périmètre\" de l'article Wikipedia sur la Région Urbaine de Lyon.\n"
     ]
    }
   ],
   "execution_count": 18
  },
  {
   "metadata": {},
   "cell_type": "markdown",
   "source": "Cette fois-ci, les informations sont exactes, et nous pouvons le vérifier par nous-même en allant sur l'article *Wikipedia* de Lyon ! Ce système permet ainsi aux utilisateurs, à travers une simple requête, de pouvoir accéder aux informations vérifiées par les contributeurs *Wikipedia* en quelques secondes seulement.",
   "id": "e4fb2b27b06b3a29"
  },
  {
   "metadata": {},
   "cell_type": "markdown",
   "source": [
    "### Pour continuer …\n",
    "Pour profiter d'une expérience utilisateur plus poussée, nous vous suggérons désormais de réitérer l'exercice en lançant le programme `main.py`, qui fournit, en plus de tout ce que nous avons exploré ici, une interface utilisateur à travers votre navigateur internet."
   ],
   "id": "8fe173fa64370847"
  },
  {
   "metadata": {
    "ExecuteTime": {
     "end_time": "2024-05-08T17:25:18.336739Z",
     "start_time": "2024-05-08T17:25:18.334011Z"
    }
   },
   "cell_type": "code",
   "source": "",
   "id": "620ba9b5b8e8e619",
   "outputs": [],
   "execution_count": 18
  }
 ],
 "metadata": {
  "kernelspec": {
   "display_name": "Python 3",
   "language": "python",
   "name": "python3"
  },
  "language_info": {
   "codemirror_mode": {
    "name": "ipython",
    "version": 2
   },
   "file_extension": ".py",
   "mimetype": "text/x-python",
   "name": "python",
   "nbconvert_exporter": "python",
   "pygments_lexer": "ipython2",
   "version": "2.7.6"
  }
 },
 "nbformat": 4,
 "nbformat_minor": 5
}
