{
 "cells": [
  {
   "cell_type": "code",
   "outputs": [],
   "source": [
    "from src.ner import NaturalEntityRecognizer\n",
    "from src.wiki import ask_question\n",
    "\n",
    "\n",
    "query = input(\"Posez votre question : \")\n",
    "\n",
    "ner = NaturalEntityRecognizer('Jean-Baptiste/camembert-ner')\n",
    "wiki = []\n",
    "\n",
    "for keyword in ner(query):\n",
    "    wiki.append(ask_question(keyword))\n",
    "    \n"
   ],
   "metadata": {
    "collapsed": false,
    "ExecuteTime": {
     "end_time": "2024-04-30T19:30:17.368435Z",
     "start_time": "2024-04-30T19:30:09.723170Z"
    }
   },
   "id": "e4634f059013ed83",
   "execution_count": 2
  },
  {
   "cell_type": "code",
   "outputs": [],
   "source": [],
   "metadata": {
    "collapsed": false
   },
   "id": "b2d3168dc859bc9d"
  }
 ],
 "metadata": {
  "kernelspec": {
   "display_name": "Python 3",
   "language": "python",
   "name": "python3"
  },
  "language_info": {
   "codemirror_mode": {
    "name": "ipython",
    "version": 2
   },
   "file_extension": ".py",
   "mimetype": "text/x-python",
   "name": "python",
   "nbconvert_exporter": "python",
   "pygments_lexer": "ipython2",
   "version": "2.7.6"
  }
 },
 "nbformat": 4,
 "nbformat_minor": 5
}
